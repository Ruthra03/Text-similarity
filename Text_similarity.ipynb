{
  "nbformat": 4,
  "nbformat_minor": 0,
  "metadata": {
    "colab": {
      "provenance": [],
      "authorship_tag": "ABX9TyNFPwBZa+b2A0NIWjCSG7/x",
      "include_colab_link": true
    },
    "kernelspec": {
      "name": "python3",
      "display_name": "Python 3"
    },
    "language_info": {
      "name": "python"
    }
  },
  "cells": [
    {
      "cell_type": "markdown",
      "metadata": {
        "id": "view-in-github",
        "colab_type": "text"
      },
      "source": [
        "<a href=\"https://colab.research.google.com/github/Ruthra03/Text-similarity/blob/main/Text_similarity.ipynb\" target=\"_parent\"><img src=\"https://colab.research.google.com/assets/colab-badge.svg\" alt=\"Open In Colab\"/></a>"
      ]
    },
    {
      "cell_type": "code",
      "execution_count": 12,
      "metadata": {
        "id": "sVkmZ6hnFIES"
      },
      "outputs": [],
      "source": [
        "import nltk\n",
        "import sklearn\n",
        "with open('text1.txt', 'r') as file:\n",
        "    text1 = file.read()\n",
        "with open('text2.txt', 'r') as file:\n",
        "    text2 = file.read()"
      ]
    },
    {
      "cell_type": "code",
      "source": [
        "print(text1)\n",
        "print(text2)"
      ],
      "metadata": {
        "colab": {
          "base_uri": "https://localhost:8080/"
        },
        "id": "Uv4X6zhtGHXE",
        "outputId": "962329b0-25c0-47c6-ff7d-76af4857376e"
      },
      "execution_count": 13,
      "outputs": [
        {
          "output_type": "stream",
          "name": "stdout",
          "text": [
            "College is a transformative phase in one's educational journey, marked by intellectual growth, personal development, and the pursuit of specialized knowledge. It serves as a bridge between the structured environment of high school and the more independent and exploratory nature of adulthood. In college, students engage in a diverse range of academic pursuits, from traditional lectures to hands-on laboratory experiments, fostering critical thinking and analytical skills. Beyond academics, college life offers a rich tapestry of experiences, including extracurricular activities, social interactions, and exposure to a variety of perspectives. It is a time when individuals not only deepen their understanding of specific subjects but also discover their passions, form lifelong friendships, and cultivate the skills necessary for a successful future. The college experience is a unique and invaluable chapter in one's life that lays the foundation for personal and professional growth.\n",
            "College stands as a pivotal period in the educational journey, characterized by substantial intellectual development, personal growth, and the pursuit of specialized knowledge. It functions as a transitional phase between the more structured environment of high school and the greater independence inherent in adulthood. Within the college setting, students participate in a diverse array of academic endeavors, ranging from conventional lectures to hands-on laboratory work, promoting the refinement of critical thinking and analytical abilities. Beyond the academic sphere, college life encompasses a rich mosaic of experiences, encompassing extracurricular pursuits, social interactions, and exposure to diverse perspectives. It is during this phase that individuals not only deepen their comprehension of specific subjects but also uncover their passions, forge enduring friendships, and cultivate essential skills for a successful future. Undoubtedly, the college experience constitutes a distinctive and invaluable chapter in one's life, laying the groundwork for significant personal and professional advancement.\n"
          ]
        }
      ]
    },
    {
      "cell_type": "code",
      "source": [
        "nltk.download('punkt')\n",
        "nltk.download('stopwords')\n",
        "nltk.download('wordnet')\n",
        "from nltk.corpus import stopwords\n",
        "from nltk.stem import WordNetLemmatizer\n",
        "from sklearn.feature_extraction.text import TfidfVectorizer\n",
        "from sklearn.metrics.pairwise import cosine_similarity"
      ],
      "metadata": {
        "colab": {
          "base_uri": "https://localhost:8080/"
        },
        "id": "SZdym7TzGmhS",
        "outputId": "37b268c0-1fe5-4970-d98c-aa8695e00502"
      },
      "execution_count": 14,
      "outputs": [
        {
          "output_type": "stream",
          "name": "stderr",
          "text": [
            "[nltk_data] Downloading package punkt to /root/nltk_data...\n",
            "[nltk_data]   Package punkt is already up-to-date!\n",
            "[nltk_data] Downloading package stopwords to /root/nltk_data...\n",
            "[nltk_data]   Package stopwords is already up-to-date!\n",
            "[nltk_data] Downloading package wordnet to /root/nltk_data...\n",
            "[nltk_data]   Package wordnet is already up-to-date!\n"
          ]
        }
      ]
    },
    {
      "cell_type": "code",
      "source": [
        "lemmatizer = WordNetLemmatizer()"
      ],
      "metadata": {
        "id": "e8GmD_aqG56W"
      },
      "execution_count": 15,
      "outputs": []
    },
    {
      "cell_type": "code",
      "source": [
        "sentences1 = nltk.sent_tokenize(text1)\n",
        "sentences2 = nltk.sent_tokenize(text2)"
      ],
      "metadata": {
        "id": "c6DszgJfG-vd"
      },
      "execution_count": 16,
      "outputs": []
    },
    {
      "cell_type": "code",
      "source": [
        "for i in range(len(sentences1)):\n",
        "  words = nltk.word_tokenize(sentences1[i])\n",
        "  words = [lemmatizer.lemmatize(word,pos='n') for word in words if word.lower() not in set(stopwords.words('english'))]\n",
        "  sentences1[i] = ' '.join(words)\n",
        "for i in range(len(sentences2)):\n",
        "  words = nltk.word_tokenize(sentences2[i])\n",
        "  words = [lemmatizer.lemmatize(word,pos='n') for word in words if word.lower() not in set(stopwords.words('english'))]\n",
        "  sentences2[i] = ' '.join(words)"
      ],
      "metadata": {
        "id": "lzUldDa-HE7d"
      },
      "execution_count": 17,
      "outputs": []
    },
    {
      "cell_type": "code",
      "source": [
        "text1 = ' '.join(sentences1)\n",
        "text2 = ' '.join(sentences2)"
      ],
      "metadata": {
        "id": "N_0wk9JXHJEu"
      },
      "execution_count": 18,
      "outputs": []
    },
    {
      "cell_type": "code",
      "source": [
        "vectorizer = TfidfVectorizer()\n",
        "vectors = vectorizer.fit_transform([text1, text2])"
      ],
      "metadata": {
        "id": "gcmJYhl3HRB3"
      },
      "execution_count": 19,
      "outputs": []
    },
    {
      "cell_type": "code",
      "source": [
        "similarity = cosine_similarity(vectors[0],vectors[1])\n",
        "print(similarity)"
      ],
      "metadata": {
        "colab": {
          "base_uri": "https://localhost:8080/"
        },
        "id": "-cRmFFqpHUO2",
        "outputId": "bcb85907-7a1b-4e30-8a7f-184e4f1f70df"
      },
      "execution_count": 20,
      "outputs": [
        {
          "output_type": "stream",
          "name": "stdout",
          "text": [
            "[[0.56882885]]\n"
          ]
        }
      ]
    },
    {
      "cell_type": "code",
      "source": [
        "sim_percent = int(similarity[0][0]*100)\n",
        "print(\"Similarity:\",sim_percent,\"%\")"
      ],
      "metadata": {
        "colab": {
          "base_uri": "https://localhost:8080/"
        },
        "id": "-W-mxLrQHXFO",
        "outputId": "39e308c0-800c-4072-df1e-1a30e284940f"
      },
      "execution_count": 21,
      "outputs": [
        {
          "output_type": "stream",
          "name": "stdout",
          "text": [
            "Similarity: 56 %\n"
          ]
        }
      ]
    },
    {
      "cell_type": "code",
      "source": [],
      "metadata": {
        "id": "mj0lbeGRIp1J"
      },
      "execution_count": null,
      "outputs": []
    }
  ]
}